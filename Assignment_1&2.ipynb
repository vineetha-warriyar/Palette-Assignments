{
 "cells": [
  {
   "cell_type": "markdown",
   "metadata": {},
   "source": [
    "**Please follow the instructions. Do not add new cell! Write your code in designated areas.**"
   ]
  },
  {
   "cell_type": "code",
   "execution_count": 1,
   "metadata": {},
   "outputs": [
    {
     "name": "stdout",
     "output_type": "stream",
     "text": [
      "Assignment 1 & 2: Solutions by Vineetha\n",
      "Local Time: 2023-09-22 12:44:24\n",
      "Computer ID: Vineethas-MacBook-Pro-2.local\n"
     ]
    }
   ],
   "source": [
    "import datetime\n",
    "import socket\n",
    "\n",
    "# Get local time\n",
    "local_time = datetime.datetime.now().strftime(\"%Y-%m-%d %H:%M:%S\")\n",
    "\n",
    "# Get computer ID or hostname\n",
    "computer_id = socket.gethostname()\n",
    "\n",
    "# Print output with local time and computer ID\n",
    "print('Assignment 1 & 2: Solutions by Vineetha') # Please change your name here\n",
    "print('Local Time:', local_time)\n",
    "print('Computer ID:', computer_id)"
   ]
  },
  {
   "cell_type": "markdown",
   "metadata": {},
   "source": [
    "**Note that you have to run this code in your local engine to pass the assignments**"
   ]
  },
  {
   "cell_type": "markdown",
   "metadata": {},
   "source": [
    "# Assignment 1"
   ]
  },
  {
   "cell_type": "markdown",
   "metadata": {},
   "source": [
    "## Exercise 1: String Manipulation"
   ]
  },
  {
   "cell_type": "markdown",
   "metadata": {},
   "source": [
    "Develop a function that accepts a string parameter indicating a crop name and gives back the crop name in capital letters. Hints: str, upper()"
   ]
  },
  {
   "cell_type": "code",
   "execution_count": 3,
   "metadata": {},
   "outputs": [
    {
     "data": {
      "text/plain": [
       "'CANOLA'"
      ]
     },
     "execution_count": 3,
     "metadata": {},
     "output_type": "execute_result"
    }
   ],
   "source": [
    "## Your code here down\n",
    "\n",
    "def cap_crop_name(crop_name):\n",
    "    cap_crop = crop_name.upper()\n",
    "    return cap_crop\n",
    "\n",
    "crop_name = \"canola\"\n",
    "cap_crop_name(crop_name)\n",
    "\n",
    "## Your code here up"
   ]
  },
  {
   "cell_type": "markdown",
   "metadata": {},
   "source": [
    "## Exercise 2: Crop Count"
   ]
  },
  {
   "cell_type": "markdown",
   "metadata": {},
   "source": [
    "Create a function that receives a list of crop names (lentil, barley, canola, spring wheat, durum wheat, oats, alfalfa) and outputs the total number of crops. Hints: list, length."
   ]
  },
  {
   "cell_type": "code",
   "execution_count": 10,
   "metadata": {},
   "outputs": [
    {
     "name": "stdout",
     "output_type": "stream",
     "text": [
      "Total Number of Crops =  7\n"
     ]
    }
   ],
   "source": [
    "## Your code here down\n",
    "\n",
    "def count_crops(crop_list):\n",
    "    total_crops = len(crop_list)\n",
    "    return total_crops\n",
    "\n",
    "crop_names = [\"lentil\", \"barley\", \"canola\", \"spring wheat\", \"durum wheat\", \"oats\", \"alfalfa\"]\n",
    "total_crops = count_crops(crop_names)\n",
    "print(\"Total Number of Crops = \", total_crops)\n",
    "\n",
    "## Your code here up"
   ]
  },
  {
   "cell_type": "markdown",
   "metadata": {},
   "source": [
    "## Exercise 3: Temperature Conversion"
   ]
  },
  {
   "cell_type": "markdown",
   "metadata": {},
   "source": [
    "Create a function that takes a temperature in Celsius and converts it to Fahrenheit. Return the converted temperature. Keys:def, find converter."
   ]
  },
  {
   "cell_type": "code",
   "execution_count": 20,
   "metadata": {},
   "outputs": [
    {
     "name": "stdout",
     "output_type": "stream",
     "text": [
      "Temperature in Celsius: 10\n",
      "Temperature in Fahrenheit: 50.0\n"
     ]
    }
   ],
   "source": [
    "## Your code here down\n",
    "\n",
    "def celsius_to_fahrenheit(celsius):\n",
    "    fahrenheit = (celsius * 9/5) + 32\n",
    "    return fahrenheit\n",
    "\n",
    "\n",
    "celsius_temp = 10\n",
    "converted_temp = celsius_to_fahrenheit(celsius_temp)\n",
    "print(\"Temperature in Celsius:\", celsius_temp)\n",
    "print(\"Temperature in Fahrenheit:\", converted_temp) \n",
    "\n",
    "## Your code here up"
   ]
  },
  {
   "cell_type": "markdown",
   "metadata": {},
   "source": [
    "## Exercise 4: Crop Harvest"
   ]
  },
  {
   "cell_type": "markdown",
   "metadata": {},
   "source": [
    "Create a function that takes the yield of canola crop (in bushels) and returns a string indicating whether it's a high, moderate, or low yield. Keys: strings, if-else, print()"
   ]
  },
  {
   "cell_type": "code",
   "execution_count": 22,
   "metadata": {},
   "outputs": [
    {
     "name": "stdout",
     "output_type": "stream",
     "text": [
      "Canola Yield =  60 bushels\n",
      "Yield Classification =  High Yield\n"
     ]
    }
   ],
   "source": [
    "## Your code here down\n",
    "\n",
    "def classify_canola_yield(bushels):\n",
    "    if bushels >= 40:\n",
    "        yield_classification = \"High Yield\"\n",
    "    elif bushels >= 20:\n",
    "        yield_classification = \"Moderate Yield\"\n",
    "    else:\n",
    "        yield_classification = \"Low Yield\"    \n",
    "    return yield_classification\n",
    "\n",
    "\n",
    "canola_yield = 60 \n",
    "yield_classification = classify_canola_yield(canola_yield)\n",
    "print(\"Canola Yield = \", canola_yield, \"bushels\")\n",
    "print(\"Yield Classification: \", yield_classification)\n",
    "\n",
    "## Your code here up"
   ]
  },
  {
   "cell_type": "markdown",
   "metadata": {},
   "source": [
    "## Exercise 5: Crop Average"
   ]
  },
  {
   "cell_type": "markdown",
   "metadata": {},
   "source": [
    "Create a function that takes a list of crop yields (spring wheat) and returns the average yield. Keys: list, average() or arithmetic average."
   ]
  },
  {
   "cell_type": "code",
   "execution_count": 3,
   "metadata": {},
   "outputs": [
    {
     "name": "stdout",
     "output_type": "stream",
     "text": [
      "Average Spring Wheat Yield =  35.0\n"
     ]
    }
   ],
   "source": [
    "## Your code here down\n",
    "\n",
    "def calculate_average_yield(yield_list):\n",
    "    if not yield_list:\n",
    "        return 0  \n",
    "    total_yield = sum(yield_list)\n",
    "    average_yield = total_yield / len(yield_list)\n",
    "    return average_yield\n",
    "\n",
    "spring_wheat_yields = [20, 30, 35, 40, 50]  \n",
    "average_yield = calculate_average_yield(spring_wheat_yields)\n",
    "print(\"Average Spring Wheat Yield = \", average_yield)\n",
    "    \n",
    "## Your code here up"
   ]
  },
  {
   "cell_type": "markdown",
   "metadata": {},
   "source": [
    "# Assignment 2"
   ]
  },
  {
   "cell_type": "markdown",
   "metadata": {},
   "source": [
    "## Exercise 6: Crop Recommendation"
   ]
  },
  {
   "cell_type": "markdown",
   "metadata": {},
   "source": [
    "Create a function that takes the type of soil (brown, dark brown, black) as a parameter and returns a recommended crop (lentil, canola, oats) for that soil type. Keys: dict"
   ]
  },
  {
   "cell_type": "code",
   "execution_count": 9,
   "metadata": {},
   "outputs": [
    {
     "name": "stdout",
     "output_type": "stream",
     "text": [
      "For dark brown soil, the recommended crop is lentil.\n"
     ]
    }
   ],
   "source": [
    "## Your code here down\n",
    "def recommend_crop_for_soil(soil_type):\n",
    "    soil_to_crop = {\n",
    "        \"dark brown\": \"lentil\",\n",
    "        \"brown\": \"canola\",\n",
    "        \"black\": \"oats\"\n",
    "    }\n",
    "    if soil_type in soil_to_crop:\n",
    "        recommended_crop = soil_to_crop[soil_type]\n",
    "    else:\n",
    "        recommended_crop = \"Unknown\"  # Return \"Unknown\" for undefined soil types\n",
    "    \n",
    "    return recommended_crop\n",
    "\n",
    "\n",
    "soil_type = \"dark brown\"  \n",
    "recommended_crop = recommend_crop_for_soil(soil_type)\n",
    "print(f\"For {soil_type} soil, the recommended crop is {recommended_crop}.\")\n",
    "\n",
    "## Your code here up"
   ]
  },
  {
   "cell_type": "markdown",
   "metadata": {},
   "source": [
    "## Exercise 7: Crop Rotation"
   ]
  },
  {
   "cell_type": "markdown",
   "metadata": {},
   "source": [
    "Create a function that takes a list of crop names (lentil, barly, canola, spring wheat, durum wheat, oats) and rotates the crops by moving the last crop to the beginning of the list. Keys: list and list index"
   ]
  },
  {
   "cell_type": "code",
   "execution_count": 13,
   "metadata": {},
   "outputs": [
    {
     "name": "stdout",
     "output_type": "stream",
     "text": [
      "Original Crop List: ['lentil', 'barley', 'canola', 'spring wheat', 'durum wheat', 'oats']\n",
      "Rotated Crop List: ['oats', 'lentil', 'barley', 'canola', 'spring wheat', 'durum wheat']\n"
     ]
    }
   ],
   "source": [
    "## Your code here down\n",
    "def rotate_crops(crop_list):\n",
    "    if not crop_list:\n",
    "        return crop_list  \n",
    "    \n",
    "    last_crop = crop_list[-1]  \n",
    "    rotated_list = [last_crop] + crop_list[:-1]  # Rotate the list\n",
    "    \n",
    "    return rotated_list\n",
    "\n",
    "crop_names = [\"lentil\", \"barley\", \"canola\", \"spring wheat\", \"durum wheat\", \"oats\"]\n",
    "rotated_crops = rotate_crops(crop_names)\n",
    "print(\"Original Crop List:\", crop_names)\n",
    "print(\"Rotated Crop List:\", rotated_crops)\n",
    "\n",
    "## Your code here up"
   ]
  },
  {
   "cell_type": "markdown",
   "metadata": {},
   "source": [
    "# Exercise 8: Rainfall Analysis"
   ]
  },
  {
   "cell_type": "markdown",
   "metadata": {},
   "source": [
    "Create a function that takes a list of rainfall measurements (daily mm in a week) and returns the maximum and minimum rainfall values. Keys: min(), max(), lists"
   ]
  },
  {
   "cell_type": "code",
   "execution_count": 17,
   "metadata": {},
   "outputs": [
    {
     "name": "stdout",
     "output_type": "stream",
     "text": [
      "Minimum Rainfall =  0.0 mm\n",
      "Maximum Rainfall =  10.8 mm\n"
     ]
    }
   ],
   "source": [
    "## Your code here down\n",
    "def min_max_rainfall(rainfall_list):\n",
    "    if not rainfall_list:\n",
    "        return None, None  \n",
    "    \n",
    "    min_rainfall = min(rainfall_list)\n",
    "    max_rainfall = max(rainfall_list)\n",
    "    \n",
    "    return min_rainfall, max_rainfall\n",
    "\n",
    "\n",
    "rainfall_measurements = [6.0, 3.5, 8.8, 1.3, 0.0, 10.8, 2.1] \n",
    "min_rainfall, max_rainfall = min_max_rainfall(rainfall_measurements)\n",
    "\n",
    "if min_rainfall is not None and max_rainfall is not None:\n",
    "    print(\"Minimum Rainfall = \", min_rainfall, \"mm\")\n",
    "    print(\"Maximum Rainfall = \", max_rainfall, \"mm\")\n",
    "else:\n",
    "    print(\"No rainfall measurements available.\")\n",
    "\n",
    "## Your code here up"
   ]
  },
  {
   "cell_type": "markdown",
   "metadata": {},
   "source": [
    "## Exercise 9: Pest Control"
   ]
  },
  {
   "cell_type": "markdown",
   "metadata": {},
   "source": [
    "Create a function that takes the count of pests detected in a field and returns a recommendation for pest control based on the count. Please search for pests and pest control measures. Keys: if-else statement"
   ]
  },
  {
   "cell_type": "code",
   "execution_count": 18,
   "metadata": {},
   "outputs": [
    {
     "name": "stdout",
     "output_type": "stream",
     "text": [
      "Pest Control Recommendation: Moderate pest count. Use targeted pesticide application if necessary.\n"
     ]
    }
   ],
   "source": [
    "## Your code here down\n",
    "\n",
    "def pest_control_recommendation(pest_count):\n",
    "    if pest_count == 0:\n",
    "        return \"No pests detected. Continue monitoring the field.\"\n",
    "\n",
    "    elif pest_count <= 5:\n",
    "        return \"Low pest count. Consider manual removal or natural predators.\"\n",
    "\n",
    "    elif pest_count <= 20:\n",
    "        return \"Moderate pest count. Use targeted pesticide application if necessary.\"\n",
    "\n",
    "    else:\n",
    "        return \"High pest count. Implement integrated pest management strategies.\"\n",
    "\n",
    "\n",
    "pest_count = 15\n",
    "recommendation = pest_control_recommendation(pest_count)\n",
    "print(\"Pest Control Recommendation:\", recommendation)\n",
    "\n",
    "## Your code here up"
   ]
  },
  {
   "cell_type": "markdown",
   "metadata": {},
   "source": [
    "## Exercise 10: Weed Control"
   ]
  },
  {
   "cell_type": "markdown",
   "metadata": {},
   "source": [
    "Create a function that takes a list of weed names and suggests appropriate herbicides for weed control. Keys: For Loops and dictionary."
   ]
  },
  {
   "cell_type": "code",
   "execution_count": 26,
   "metadata": {},
   "outputs": [
    {
     "name": "stdout",
     "output_type": "stream",
     "text": [
      "For dandelion, recommended herbicide is Herbicide A\n",
      "For thistle, recommended herbicide is Herbicide B\n",
      "For clover, recommended herbicide is  not specified.\n"
     ]
    }
   ],
   "source": [
    "## Your code here down\n",
    "\n",
    "def suggest_herbicides(weed_names):\n",
    "    herbicides_dict = {\n",
    "        \"dandelion\": \"Herbicide A\",\n",
    "        \"thistle\": \"Herbicide B\",\n",
    "        \"crabgrass\": \"Herbicide C\",\n",
    "         \"ragweed\": \"Herbicide D\"\n",
    "    }\n",
    "\n",
    "    recommended_herbicides = []\n",
    "\n",
    "    for weed_name in weed_names:\n",
    "        recommended_herbicide = herbicides_dict.get(weed_name.lower())\n",
    "        \n",
    "        if recommended_herbicide:\n",
    "            recommended_herbicides.append(recommended_herbicide)\n",
    "        else:\n",
    "            recommended_herbicides.append(f\" not specified.\")\n",
    "\n",
    "    return recommended_herbicides\n",
    "\n",
    "\n",
    "weed_names = [\"dandelion\", \"thistle\", \"clover\"]  \n",
    "recommended_herbicides = suggest_herbicides(weed_names)\n",
    "\n",
    "for i, weed_name in enumerate(weed_names):\n",
    "    print(f\"For {weed_name}, recommended herbicide is {recommended_herbicides[i]}\")\n",
    "\n",
    "\n",
    "## Your code here up"
   ]
  },
  {
   "cell_type": "code",
   "execution_count": null,
   "metadata": {},
   "outputs": [],
   "source": []
  }
 ],
 "metadata": {
  "kernelspec": {
   "display_name": "Python 3 (ipykernel)",
   "language": "python",
   "name": "python3"
  },
  "language_info": {
   "codemirror_mode": {
    "name": "ipython",
    "version": 3
   },
   "file_extension": ".py",
   "mimetype": "text/x-python",
   "name": "python",
   "nbconvert_exporter": "python",
   "pygments_lexer": "ipython3",
   "version": "3.10.9"
  }
 },
 "nbformat": 4,
 "nbformat_minor": 4
}
